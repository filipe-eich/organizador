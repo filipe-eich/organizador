{
 "cells": [
  {
   "cell_type": "code",
   "execution_count": 16,
   "id": "448c25c0-2634-48ab-96d9-cd63a23aee65",
   "metadata": {},
   "outputs": [
    {
     "data": {
      "text/plain": [
       "'\\nPrograma: Trab_final\\nDescrição: Este programa refere-se ao trab. final da disciplina\\nAutor: Luis Filipe Eich\\nData: 28/03/2025\\nVersao: 0.0.1\\n'"
      ]
     },
     "execution_count": 16,
     "metadata": {},
     "output_type": "execute_result"
    }
   ],
   "source": [
    "\"\"\"\n",
    "Programa: Trab_final\n",
    "Descrição: Este programa refere-se ao trab. final da disciplina e organiza arquivos como documentos e planilhas em pastas\n",
    "Autor: Luis Filipe Eich\n",
    "Data: 28/03/2025\n",
    "Versao: 0.0.1\n",
    "\"\"\"\n"
   ]
  },
  {
   "cell_type": "code",
   "execution_count": 18,
   "id": "427921b8-da8e-4c12-92f6-b250f890d310",
   "metadata": {},
   "outputs": [],
   "source": [
    "#Bibliotecas\n",
    "\n",
    "import os\n",
    "import shutil"
   ]
  },
  {
   "cell_type": "code",
   "execution_count": 20,
   "id": "894fd8a0-64c7-4b54-8659-5d44615f515f",
   "metadata": {},
   "outputs": [],
   "source": [
    "#Alocaçao de memoria\n",
    "\n",
    "PASTA_PLANILHAS = \"\"\n",
    "PASTA_DOCUMENTOS = \"\"\n"
   ]
  },
  {
   "cell_type": "code",
   "execution_count": 22,
   "id": "69533df8-fc7f-49b8-b32f-92411efd25d3",
   "metadata": {
    "scrolled": true
   },
   "outputs": [],
   "source": [
    "#Entrada de dados\n",
    "\n",
    "PASTA_PLANILHAS = 'planilhas'\n",
    "PASTA_DOCUMENTOS = 'documentos'\n"
   ]
  },
  {
   "cell_type": "code",
   "execution_count": 24,
   "id": "9ec6182e-f888-4622-8308-4ecf55fffcc7",
   "metadata": {},
   "outputs": [],
   "source": [
    "# Processamento de dados\n",
    "\n",
    "os.makedirs(PASTA_PLANILHAS, exist_ok=True)\n",
    "\n",
    "os.makedirs(PASTA_DOCUMENTOS, exist_ok=True)\n",
    "\n",
    "\n",
    "\n",
    "for arquivo in os.listdir():\n",
    "    if os.path.isfile(arquivo):\n",
    "        _, extensao = os.path.splitext(arquivo)\n",
    "        extensao = extensao.lower()\n",
    "        \n",
    "        if extensao == '.xls':\n",
    "            shutil.move(arquivo, os.path.join(PASTA_PLANILHAS, arquivo))\n",
    "        elif extensao in ('.doc', '.docx'):\n",
    "            shutil.move(arquivo, os.path.join(PASTA_DOCUMENTOS, arquivo))\n"
   ]
  },
  {
   "cell_type": "code",
   "execution_count": 35,
   "id": "23ca565b-9252-4690-983f-980220c1d4f4",
   "metadata": {},
   "outputs": [
    {
     "name": "stdout",
     "output_type": "stream",
     "text": [
      "**Olá!! As alterações foram concluídas!**\n",
      "Arquivos organizados nas pastas 'planilhas' e 'documentos'.\n"
     ]
    }
   ],
   "source": [
    "#Saida de dados\n",
    "\n",
    "print(\"**Olá!! As alterações foram concluídas!**\\nArquivos organizados nas pastas 'planilhas' e 'documentos'.\")\n",
    "\n",
    "\n",
    "\n"
   ]
  },
  {
   "cell_type": "code",
   "execution_count": null,
   "id": "5963554e-b214-463f-820b-86e8ba70fe6c",
   "metadata": {},
   "outputs": [],
   "source": []
  }
 ],
 "metadata": {
  "kernelspec": {
   "display_name": "Python [conda env:base] *",
   "language": "python",
   "name": "conda-base-py"
  },
  "language_info": {
   "codemirror_mode": {
    "name": "ipython",
    "version": 3
   },
   "file_extension": ".py",
   "mimetype": "text/x-python",
   "name": "python",
   "nbconvert_exporter": "python",
   "pygments_lexer": "ipython3",
   "version": "3.12.7"
  }
 },
 "nbformat": 4,
 "nbformat_minor": 5
}
